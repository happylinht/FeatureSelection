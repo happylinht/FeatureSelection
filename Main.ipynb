{
 "cells": [
  {
   "cell_type": "code",
   "execution_count": 1,
   "metadata": {
    "ExecuteTime": {
     "end_time": "2019-06-10T15:35:16.663677Z",
     "start_time": "2019-06-10T15:35:04.912306Z"
    }
   },
   "outputs": [
    {
     "name": "stderr",
     "output_type": "stream",
     "text": [
      "C:\\Users\\hasee\\Anaconda3\\lib\\site-packages\\h5py\\__init__.py:36: FutureWarning: Conversion of the second argument of issubdtype from `float` to `np.floating` is deprecated. In future, it will be treated as `np.float64 == np.dtype(float).type`.\n",
      "  from ._conv import register_converters as _register_converters\n",
      "C:\\Users\\hasee\\Anaconda3\\lib\\site-packages\\sklearn\\ensemble\\weight_boosting.py:29: DeprecationWarning: numpy.core.umath_tests is an internal NumPy module and should not be imported. It will be removed in a future NumPy release.\n",
      "  from numpy.core.umath_tests import inner1d\n"
     ]
    }
   ],
   "source": [
    "import numpy as np\n",
    "import pandas as pd\n",
    "from tqdm import tqdm\n",
    "from imp import reload\n",
    "from program import greedy\n",
    "from program import classify\n",
    "from program import input_data\n",
    "from program import metrics as me\n",
    "from copy import deepcopy as dcp"
   ]
  },
  {
   "cell_type": "markdown",
   "metadata": {},
   "source": [
    "# 全局设置"
   ]
  },
  {
   "cell_type": "code",
   "execution_count": 2,
   "metadata": {
    "ExecuteTime": {
     "end_time": "2019-06-10T15:35:16.670640Z",
     "start_time": "2019-06-10T15:35:16.665651Z"
    }
   },
   "outputs": [],
   "source": [
    "global_seed = 0\n",
    "model = [greedy,classify,input_data,me]\n",
    "for i in model:\n",
    "    i.gloabl_seed = global_seed\n",
    "del model,global_seed"
   ]
  },
  {
   "cell_type": "markdown",
   "metadata": {},
   "source": [
    "# 开关"
   ]
  },
  {
   "cell_type": "code",
   "execution_count": 3,
   "metadata": {
    "ExecuteTime": {
     "end_time": "2019-06-10T15:35:16.679638Z",
     "start_time": "2019-06-10T15:35:16.672634Z"
    }
   },
   "outputs": [],
   "source": [
    "switch = [\n",
    "    0,  0,     0,        0,    1,            1]"
   ]
  },
  {
   "cell_type": "markdown",
   "metadata": {},
   "source": [
    "划分数据 Smote Normalize,Greedy,Greedy-metrics,All-metrics"
   ]
  },
  {
   "cell_type": "markdown",
   "metadata": {},
   "source": [
    "# 分类器开关"
   ]
  },
  {
   "cell_type": "code",
   "execution_count": 30,
   "metadata": {
    "ExecuteTime": {
     "end_time": "2019-06-10T15:49:28.440384Z",
     "start_time": "2019-06-10T15:49:28.432395Z"
    }
   },
   "outputs": [],
   "source": [
    "DT=classify.DT\n",
    "ANN=classify.ANN\n",
    "Adaboost=classify.Adaboost\n",
    "Xgboost=classify.Xgboost\n",
    "Gboosting=classify.Gboosting\n",
    "NB=classify.NB\n",
    "VFDT=classify.VFDT\n",
    "\n",
    "clf =      [DT,ANN,Adaboost,Xgboost,Gboosting,NB,VFDT]\n",
    "clf_name = ['DT','ANN','Adaboost','Xgboost','Gboosting','NB','VFDT']\n",
    "clf_switch=[0,   0,     0,         0,        0,          0,   1    ]"
   ]
  },
  {
   "cell_type": "markdown",
   "metadata": {},
   "source": [
    "# 划分数据"
   ]
  },
  {
   "cell_type": "code",
   "execution_count": 5,
   "metadata": {
    "ExecuteTime": {
     "end_time": "2019-06-10T15:35:16.710571Z",
     "start_time": "2019-06-10T15:35:16.695572Z"
    }
   },
   "outputs": [],
   "source": [
    "save_path = r'result/data_after_split.npy'\n",
    "\n",
    "if switch[0]:\n",
    "    data,title = input_data.read_data()\n",
    "\n",
    "    #变量顺序为 xtrain,xtest,ytrain,ytest\n",
    "    data_after_split = np.empty(4,dtype = pd.core.frame.DataFrame)\n",
    "    data_after_split[0],data_after_split[1],data_after_split[2],data_after_split[3] = input_data.data_split(data)\n",
    "\n",
    "    np.save(save_path,data_after_split)\n",
    "    print('columns of data :')\n",
    "    print(title)\n",
    "    print('data has saved in ' + save_path)\n",
    "    del data,title,data_after_split"
   ]
  },
  {
   "cell_type": "code",
   "execution_count": 6,
   "metadata": {
    "ExecuteTime": {
     "end_time": "2019-06-10T15:35:16.961031Z",
     "start_time": "2019-06-10T15:35:16.713527Z"
    }
   },
   "outputs": [
    {
     "name": "stdout",
     "output_type": "stream",
     "text": [
      "load data in result/data_after_split.npy\n"
     ]
    }
   ],
   "source": [
    "print('load data in '+ save_path)\n",
    "data_after_split = np.load(save_path,allow_pickle = True)\n",
    "xtrain,xtest,ytrain,ytest = data_after_split[0],data_after_split[1],data_after_split[2],data_after_split[3]\n",
    "del data_after_split"
   ]
  },
  {
   "cell_type": "markdown",
   "metadata": {},
   "source": [
    "# Smote"
   ]
  },
  {
   "cell_type": "code",
   "execution_count": 7,
   "metadata": {
    "ExecuteTime": {
     "end_time": "2019-06-10T15:35:16.976988Z",
     "start_time": "2019-06-10T15:35:16.965017Z"
    }
   },
   "outputs": [],
   "source": [
    "save_path = r'result/data_after_smote.npy'\n",
    "if switch[1]:\n",
    "    xtrain_s1,ytrain_s1,xtrain_s2,ytrain_s2 = input_data.smote(xtrain,ytrain)\n",
    "    data_after_smote = np.empty(4,dtype = pd.core.frame.DataFrame)\n",
    "    data_after_smote[0],data_after_smote[1],data_after_smote[2],data_after_smote[3] = xtrain_s1,ytrain_s1,xtrain_s2,ytrain_s2\n",
    "\n",
    "    np.save(save_path,data_after_smote)\n",
    "    print('data has saved in ' + save_path)\n",
    "    del xtrain_s1,ytrain_s1,xtrain_s2,ytrain_s2,data_after_smote"
   ]
  },
  {
   "cell_type": "code",
   "execution_count": 8,
   "metadata": {
    "ExecuteTime": {
     "end_time": "2019-06-10T15:35:17.168503Z",
     "start_time": "2019-06-10T15:35:16.980976Z"
    }
   },
   "outputs": [],
   "source": [
    "data_after_smote = np.load(r'result/data_after_smote.npy',allow_pickle=True)\n",
    "xtrain_s1,ytrain_s1,xtrain_s2,ytrain_s2 = data_after_smote[0],data_after_smote[1],data_after_smote[2],data_after_smote[3]\n",
    "del data_after_smote"
   ]
  },
  {
   "cell_type": "markdown",
   "metadata": {},
   "source": [
    "# Normalize"
   ]
  },
  {
   "cell_type": "code",
   "execution_count": 9,
   "metadata": {
    "ExecuteTime": {
     "end_time": "2019-06-10T15:35:17.209395Z",
     "start_time": "2019-06-10T15:35:17.170469Z"
    }
   },
   "outputs": [],
   "source": [
    "save_path = r'result/data_norm.npz'\n",
    "if switch[2]:\n",
    "    xtrain_norm = input_data.normalize(xtrain,xtrain)\n",
    "    xtrain_s1_norm = input_data.normalize(xtrain_s1,xtrain_s1)\n",
    "    xtrain_s2_norm = input_data.normalize(xtrain_s2,xtrain_s2)\n",
    "\n",
    "    xtest_ns = input_data.normalize(xtrain,xtest)\n",
    "    xtest_s1 = input_data.normalize(xtrain_s1,xtest)\n",
    "    xtest_s2 = input_data.normalize(xtrain_s2,xtest)\n",
    "    \n",
    "    \n",
    "    x_train_norm = np.empty(3,dtype = np.ndarray)\n",
    "    x_train_norm[0],x_train_norm[1],x_train_norm[2] = xtrain_norm.values,xtrain_s1_norm,xtrain_s2_norm\n",
    "    \n",
    "    x_test_norm = np.empty(3,dtype = np.ndarray)\n",
    "    x_test_norm[0],x_test_norm[1],x_test_norm[2] = xtest_ns.values,xtest_s1.values,xtest_s2.values\n",
    "    \n",
    "    y_train = np.empty(3,dtype = np.ndarray)\n",
    "    y_train[0],y_train[1],y_train[2] = ytrain.values,ytrain_s1,ytrain_s2\n",
    "    \n",
    "    y_test = np.empty(3,dtype = np.ndarray)\n",
    "    y_test[0],y_test[1],y_test[2] = ytest.values,ytest.values,ytest.values\n",
    "    \n",
    "    np.savez(save_path,xtrain = x_train_norm,xtest = x_test_norm,ytrain = y_train,ytest = y_test)\n",
    "    \n",
    "    del  xtrain,ytrain,xtrain_s1,ytrain_s1,xtrain_s2,ytrain_s2,x_test_norm,x_train_norm,xtest,xtest_ns\n",
    "    del xtest_s1,xtest_s2,xtrain_norm,xtrain_s1_norm,xtrain_s2_norm,y_test,y_train,ytest"
   ]
  },
  {
   "cell_type": "code",
   "execution_count": 10,
   "metadata": {
    "ExecuteTime": {
     "end_time": "2019-06-10T15:35:17.585409Z",
     "start_time": "2019-06-10T15:35:17.212356Z"
    }
   },
   "outputs": [],
   "source": [
    "data = np.load(r'result/data_norm.npz',allow_pickle=True)\n",
    "\n",
    "xtrain = data['xtrain']\n",
    "xtest = data['xtest']\n",
    "ytrain = data['ytrain']\n",
    "ytest = data['ytest']\n",
    "\n",
    "del data"
   ]
  },
  {
   "cell_type": "markdown",
   "metadata": {},
   "source": [
    "# Data Summary"
   ]
  },
  {
   "cell_type": "code",
   "execution_count": 11,
   "metadata": {
    "ExecuteTime": {
     "end_time": "2019-06-10T15:35:17.638248Z",
     "start_time": "2019-06-10T15:35:17.587354Z"
    }
   },
   "outputs": [
    {
     "data": {
      "text/html": [
       "<div>\n",
       "<style scoped>\n",
       "    .dataframe tbody tr th:only-of-type {\n",
       "        vertical-align: middle;\n",
       "    }\n",
       "\n",
       "    .dataframe tbody tr th {\n",
       "        vertical-align: top;\n",
       "    }\n",
       "\n",
       "    .dataframe thead th {\n",
       "        text-align: right;\n",
       "    }\n",
       "</style>\n",
       "<table border=\"1\" class=\"dataframe\">\n",
       "  <thead>\n",
       "    <tr style=\"text-align: right;\">\n",
       "      <th></th>\n",
       "      <th>x_train</th>\n",
       "      <th>x_test</th>\n",
       "      <th>Ratio</th>\n",
       "      <th>total</th>\n",
       "    </tr>\n",
       "  </thead>\n",
       "  <tbody>\n",
       "    <tr>\n",
       "      <th>Origin</th>\n",
       "      <td>62210</td>\n",
       "      <td>26662</td>\n",
       "      <td>1:73</td>\n",
       "      <td>88872</td>\n",
       "    </tr>\n",
       "    <tr>\n",
       "      <th>SMOTE1</th>\n",
       "      <td>76720</td>\n",
       "      <td>26662</td>\n",
       "      <td>1:4</td>\n",
       "      <td>103382</td>\n",
       "    </tr>\n",
       "    <tr>\n",
       "      <th>SMOTE2</th>\n",
       "      <td>122752</td>\n",
       "      <td>26662</td>\n",
       "      <td>1:1</td>\n",
       "      <td>149414</td>\n",
       "    </tr>\n",
       "  </tbody>\n",
       "</table>\n",
       "</div>"
      ],
      "text/plain": [
       "        x_train  x_test Ratio   total\n",
       "Origin    62210   26662  1:73   88872\n",
       "SMOTE1    76720   26662   1:4  103382\n",
       "SMOTE2   122752   26662   1:1  149414"
      ]
     },
     "execution_count": 11,
     "metadata": {},
     "output_type": "execute_result"
    }
   ],
   "source": [
    "save_path = r'result/抽样数量.csv'\n",
    "show = pd.DataFrame()\n",
    "show['x_train'] = [k for k in map(lambda x:len(x),xtrain)]\n",
    "show['x_test'] = [k for k in map(lambda x:len(x),xtest)]\n",
    "show['Ratio'] = ['1:73','1:4','1:1']\n",
    "show['total'] = show['x_train'] + show['x_test']\n",
    "\n",
    "show.index = ['Origin','SMOTE1','SMOTE2']\n",
    "show.to_csv(save_path)\n",
    "show"
   ]
  },
  {
   "cell_type": "code",
   "execution_count": 12,
   "metadata": {
    "ExecuteTime": {
     "end_time": "2019-06-10T15:35:17.647194Z",
     "start_time": "2019-06-10T15:35:17.640213Z"
    }
   },
   "outputs": [],
   "source": [
    "del xtrain_s1,xtrain_s2,ytrain_s1,ytrain_s2,show"
   ]
  },
  {
   "cell_type": "markdown",
   "metadata": {},
   "source": [
    "# Greedy"
   ]
  },
  {
   "cell_type": "code",
   "execution_count": 15,
   "metadata": {
    "ExecuteTime": {
     "end_time": "2019-06-10T15:35:26.293810Z",
     "start_time": "2019-06-10T15:35:26.274853Z"
    },
    "scrolled": true
   },
   "outputs": [],
   "source": [
    "save_path = r'result/greedy/greedy_index.npy'\n",
    "if switch[3]:\n",
    "    greedy_index = []\n",
    "    for i,clf_i in enumerate(clf):\n",
    "        if clf_switch[i]:\n",
    "            temp = []\n",
    "            for j in tqdm(range(len(xtrain))):\n",
    "                choose = greedy.greedy(clf_i,xtrain[j],ytrain[j],xtest[j],ytest[j],[i for i in range(xtrain[0].shape[1])],8)\n",
    "                temp.append(dcp(choose))\n",
    "        else:\n",
    "            temp = [None,None,None]\n",
    "        greedy_index.append(temp)\n",
    "    np.save(save_path,greedy_index)\n",
    "    del greedy_index,temp,choose"
   ]
  },
  {
   "cell_type": "code",
   "execution_count": 16,
   "metadata": {
    "ExecuteTime": {
     "end_time": "2019-06-10T15:35:26.305762Z",
     "start_time": "2019-06-10T15:35:26.295773Z"
    }
   },
   "outputs": [],
   "source": [
    "greedy_index = np.load(save_path,allow_pickle=True)"
   ]
  },
  {
   "cell_type": "markdown",
   "metadata": {},
   "source": [
    "# Greedy-Metrics"
   ]
  },
  {
   "cell_type": "code",
   "execution_count": 17,
   "metadata": {
    "ExecuteTime": {
     "end_time": "2019-06-10T15:39:09.282383Z",
     "start_time": "2019-06-10T15:35:26.308739Z"
    }
   },
   "outputs": [
    {
     "name": "stderr",
     "output_type": "stream",
     "text": [
      "100%|████████████████████████████████████████████████████████████████████████████████████████████████████████████| 3/3 [00:00<00:00,  3.76it/s]\n",
      "100%|████████████████████████████████████████████████████████████████████████████████████████████████████████████| 3/3 [01:03<00:00, 21.04s/it]\n",
      "100%|████████████████████████████████████████████████████████████████████████████████████████████████████████████| 3/3 [01:06<00:00, 21.85s/it]\n",
      "  0%|                                                                                                                    | 0/3 [00:00<?, ?it/s]C:\\Users\\hasee\\Anaconda3\\lib\\site-packages\\sklearn\\preprocessing\\label.py:151: DeprecationWarning: The truth value of an empty array is ambiguous. Returning False, but in future this will result in an error. Use `array.size > 0` to check that an array is not empty.\n",
      "  if diff:\n",
      " 33%|████████████████████████████████████                                                                        | 1/3 [00:05<00:10,  5.18s/it]C:\\Users\\hasee\\Anaconda3\\lib\\site-packages\\sklearn\\preprocessing\\label.py:151: DeprecationWarning: The truth value of an empty array is ambiguous. Returning False, but in future this will result in an error. Use `array.size > 0` to check that an array is not empty.\n",
      "  if diff:\n",
      " 67%|████████████████████████████████████████████████████████████████████████                                    | 2/3 [00:13<00:06,  6.01s/it]C:\\Users\\hasee\\Anaconda3\\lib\\site-packages\\sklearn\\preprocessing\\label.py:151: DeprecationWarning: The truth value of an empty array is ambiguous. Returning False, but in future this will result in an error. Use `array.size > 0` to check that an array is not empty.\n",
      "  if diff:\n",
      "100%|████████████████████████████████████████████████████████████████████████████████████████████████████████████| 3/3 [00:23<00:00,  7.20s/it]\n",
      "100%|████████████████████████████████████████████████████████████████████████████████████████████████████████████| 3/3 [00:34<00:00, 10.28s/it]\n",
      "100%|████████████████████████████████████████████████████████████████████████████████████████████████████████████| 3/3 [00:00<00:00, 12.80it/s]\n",
      "  0%|                                                                                                                    | 0/3 [00:00<?, ?it/s]"
     ]
    },
    {
     "name": "stdout",
     "output_type": "stream",
     "text": [
      "epochs:  1 / 3\n",
      "epochs:  2 / 3\n",
      "epochs:  3 / 3\n"
     ]
    },
    {
     "name": "stderr",
     "output_type": "stream",
     "text": [
      "\r",
      " 33%|████████████████████████████████████                                                                        | 1/3 [00:07<00:14,  7.18s/it]"
     ]
    },
    {
     "name": "stdout",
     "output_type": "stream",
     "text": [
      "epochs:  1 / 3\n",
      "70000 / 76720\n",
      "epochs:  2 / 3\n",
      "70000 / 76720\n",
      "epochs:  3 / 3\n",
      "70000 / 76720\n"
     ]
    },
    {
     "name": "stderr",
     "output_type": "stream",
     "text": [
      "\r",
      " 67%|████████████████████████████████████████████████████████████████████████                                    | 2/3 [00:17<00:07,  7.99s/it]"
     ]
    },
    {
     "name": "stdout",
     "output_type": "stream",
     "text": [
      "epochs:  1 / 3\n",
      "70000 / 122752\n",
      "epochs:  2 / 3\n",
      "70000 / 122752\n",
      "epochs:  3 / 3\n",
      "70000 / 122752\n"
     ]
    },
    {
     "name": "stderr",
     "output_type": "stream",
     "text": [
      "100%|████████████████████████████████████████████████████████████████████████████████████████████████████████████| 3/3 [00:34<00:00, 10.76s/it]\n"
     ]
    }
   ],
   "source": [
    "save_path = r'result/greedy/greedy_me.npy'\n",
    "if switch[4]:\n",
    "    greedy_me = []\n",
    "    for i,clf_i in enumerate(clf):\n",
    "        if clf_switch[i]:\n",
    "            for j in tqdm(range(len(xtrain))):\n",
    "                greedy_me.append(me.performance(clf_i,xtrain[j][:,greedy_index[i,j]],ytrain[j],xtest[j][:,greedy_index[i,j]],ytest[j]))\n",
    "        else :\n",
    "            for j in range(3):\n",
    "                greedy_me.append([None,None,None,None,None,None,None,None])\n",
    "    np.save(save_path,greedy_me)"
   ]
  },
  {
   "cell_type": "code",
   "execution_count": 19,
   "metadata": {
    "ExecuteTime": {
     "end_time": "2019-06-10T15:39:34.726100Z",
     "start_time": "2019-06-10T15:39:34.628344Z"
    }
   },
   "outputs": [
    {
     "data": {
      "text/html": [
       "<div>\n",
       "<style scoped>\n",
       "    .dataframe tbody tr th:only-of-type {\n",
       "        vertical-align: middle;\n",
       "    }\n",
       "\n",
       "    .dataframe tbody tr th {\n",
       "        vertical-align: top;\n",
       "    }\n",
       "\n",
       "    .dataframe thead th {\n",
       "        text-align: right;\n",
       "    }\n",
       "</style>\n",
       "<table border=\"1\" class=\"dataframe\">\n",
       "  <thead>\n",
       "    <tr style=\"text-align: right;\">\n",
       "      <th></th>\n",
       "      <th></th>\n",
       "      <th>Feature_ID</th>\n",
       "      <th>Accuracy</th>\n",
       "      <th>Recall</th>\n",
       "      <th>Precision</th>\n",
       "      <th>F1_Score</th>\n",
       "      <th>FPR</th>\n",
       "    </tr>\n",
       "  </thead>\n",
       "  <tbody>\n",
       "    <tr>\n",
       "      <th rowspan=\"3\" valign=\"top\">DT</th>\n",
       "      <th>Origin</th>\n",
       "      <td>[1, 7, 4, 3, 8]</td>\n",
       "      <td>0.999512</td>\n",
       "      <td>0.97486</td>\n",
       "      <td>0.988669</td>\n",
       "      <td>0.981716</td>\n",
       "      <td>0.000152068</td>\n",
       "    </tr>\n",
       "    <tr>\n",
       "      <th>SMOTE1</th>\n",
       "      <td>[4, 7, 1, 3, 9]</td>\n",
       "      <td>0.99955</td>\n",
       "      <td>0.988827</td>\n",
       "      <td>0.977901</td>\n",
       "      <td>0.983333</td>\n",
       "      <td>0.000304136</td>\n",
       "    </tr>\n",
       "    <tr>\n",
       "      <th>SMOTE2</th>\n",
       "      <td>[4, 7, 1, 3, 11]</td>\n",
       "      <td>0.999475</td>\n",
       "      <td>0.99162</td>\n",
       "      <td>0.969945</td>\n",
       "      <td>0.980663</td>\n",
       "      <td>0.000418187</td>\n",
       "    </tr>\n",
       "    <tr>\n",
       "      <th rowspan=\"3\" valign=\"top\">ANN</th>\n",
       "      <th>Origin</th>\n",
       "      <td>[4, 7, 3, 2, 5, 1, 10, 11]</td>\n",
       "      <td>0.999062</td>\n",
       "      <td>0.960894</td>\n",
       "      <td>0.969014</td>\n",
       "      <td>0.964937</td>\n",
       "      <td>0.000418187</td>\n",
       "    </tr>\n",
       "    <tr>\n",
       "      <th>SMOTE1</th>\n",
       "      <td>[4, 7, 2, 8, 5, 6]</td>\n",
       "      <td>0.998912</td>\n",
       "      <td>0.994413</td>\n",
       "      <td>0.929504</td>\n",
       "      <td>0.960864</td>\n",
       "      <td>0.00102646</td>\n",
       "    </tr>\n",
       "    <tr>\n",
       "      <th>SMOTE2</th>\n",
       "      <td>[4, 6, 7]</td>\n",
       "      <td>0.995874</td>\n",
       "      <td>0.986034</td>\n",
       "      <td>0.770742</td>\n",
       "      <td>0.865196</td>\n",
       "      <td>0.00399179</td>\n",
       "    </tr>\n",
       "    <tr>\n",
       "      <th rowspan=\"3\" valign=\"top\">Adaboost</th>\n",
       "      <th>Origin</th>\n",
       "      <td>[4, 6, 1, 2, 7, 3, 8]</td>\n",
       "      <td>0.99955</td>\n",
       "      <td>0.986034</td>\n",
       "      <td>0.980556</td>\n",
       "      <td>0.983287</td>\n",
       "      <td>0.000266119</td>\n",
       "    </tr>\n",
       "    <tr>\n",
       "      <th>SMOTE1</th>\n",
       "      <td>[4, 7, 3, 2, 1]</td>\n",
       "      <td>0.9994</td>\n",
       "      <td>0.988827</td>\n",
       "      <td>0.967213</td>\n",
       "      <td>0.977901</td>\n",
       "      <td>0.000456204</td>\n",
       "    </tr>\n",
       "    <tr>\n",
       "      <th>SMOTE2</th>\n",
       "      <td>[4, 7, 3, 2, 5, 10]</td>\n",
       "      <td>0.999175</td>\n",
       "      <td>0.988827</td>\n",
       "      <td>0.951613</td>\n",
       "      <td>0.969863</td>\n",
       "      <td>0.000684307</td>\n",
       "    </tr>\n",
       "    <tr>\n",
       "      <th rowspan=\"3\" valign=\"top\">Xgboost</th>\n",
       "      <th>Origin</th>\n",
       "      <td>[4, 7, 1, 3, 11]</td>\n",
       "      <td>0.999625</td>\n",
       "      <td>0.988827</td>\n",
       "      <td>0.983333</td>\n",
       "      <td>0.986072</td>\n",
       "      <td>0.000228102</td>\n",
       "    </tr>\n",
       "    <tr>\n",
       "      <th>SMOTE1</th>\n",
       "      <td>[4, 7, 1, 2, 6, 9]</td>\n",
       "      <td>0.99955</td>\n",
       "      <td>0.988827</td>\n",
       "      <td>0.977901</td>\n",
       "      <td>0.983333</td>\n",
       "      <td>0.000304136</td>\n",
       "    </tr>\n",
       "    <tr>\n",
       "      <th>SMOTE2</th>\n",
       "      <td>[4, 7, 1, 3]</td>\n",
       "      <td>0.999437</td>\n",
       "      <td>0.988827</td>\n",
       "      <td>0.969863</td>\n",
       "      <td>0.979253</td>\n",
       "      <td>0.000418187</td>\n",
       "    </tr>\n",
       "    <tr>\n",
       "      <th rowspan=\"3\" valign=\"top\">Gboosting</th>\n",
       "      <th>Origin</th>\n",
       "      <td>[1, 7, 4, 5]</td>\n",
       "      <td>0.999362</td>\n",
       "      <td>0.977654</td>\n",
       "      <td>0.97493</td>\n",
       "      <td>0.97629</td>\n",
       "      <td>0.000342153</td>\n",
       "    </tr>\n",
       "    <tr>\n",
       "      <th>SMOTE1</th>\n",
       "      <td>[4, 7, 2, 10, 8]</td>\n",
       "      <td>0.99955</td>\n",
       "      <td>0.988827</td>\n",
       "      <td>0.977901</td>\n",
       "      <td>0.983333</td>\n",
       "      <td>0.000304136</td>\n",
       "    </tr>\n",
       "    <tr>\n",
       "      <th>SMOTE2</th>\n",
       "      <td>[4, 7, 1, 2, 3]</td>\n",
       "      <td>0.999325</td>\n",
       "      <td>0.988827</td>\n",
       "      <td>0.961957</td>\n",
       "      <td>0.975207</td>\n",
       "      <td>0.000532238</td>\n",
       "    </tr>\n",
       "    <tr>\n",
       "      <th rowspan=\"3\" valign=\"top\">NB</th>\n",
       "      <th>Origin</th>\n",
       "      <td>[4, 3, 2]</td>\n",
       "      <td>0.997712</td>\n",
       "      <td>0.980447</td>\n",
       "      <td>0.866667</td>\n",
       "      <td>0.920052</td>\n",
       "      <td>0.00205292</td>\n",
       "    </tr>\n",
       "    <tr>\n",
       "      <th>SMOTE1</th>\n",
       "      <td>[4, 3]</td>\n",
       "      <td>0.9976</td>\n",
       "      <td>0.972067</td>\n",
       "      <td>0.865672</td>\n",
       "      <td>0.915789</td>\n",
       "      <td>0.00205292</td>\n",
       "    </tr>\n",
       "    <tr>\n",
       "      <th>SMOTE2</th>\n",
       "      <td>[4, 3, 6]</td>\n",
       "      <td>0.997487</td>\n",
       "      <td>0.980447</td>\n",
       "      <td>0.854015</td>\n",
       "      <td>0.912874</td>\n",
       "      <td>0.00228102</td>\n",
       "    </tr>\n",
       "    <tr>\n",
       "      <th rowspan=\"3\" valign=\"top\">VFDT</th>\n",
       "      <th>Origin</th>\n",
       "      <td>[4, 6, 5]</td>\n",
       "      <td>0.997787</td>\n",
       "      <td>0.902235</td>\n",
       "      <td>0.930836</td>\n",
       "      <td>0.916312</td>\n",
       "      <td>0.000912409</td>\n",
       "    </tr>\n",
       "    <tr>\n",
       "      <th>SMOTE1</th>\n",
       "      <td>[4, 7, 5]</td>\n",
       "      <td>0.997337</td>\n",
       "      <td>0.938547</td>\n",
       "      <td>0.872727</td>\n",
       "      <td>0.904441</td>\n",
       "      <td>0.00186283</td>\n",
       "    </tr>\n",
       "    <tr>\n",
       "      <th>SMOTE2</th>\n",
       "      <td>[4, 5, 6]</td>\n",
       "      <td>0.996924</td>\n",
       "      <td>0.946927</td>\n",
       "      <td>0.843284</td>\n",
       "      <td>0.892105</td>\n",
       "      <td>0.00239507</td>\n",
       "    </tr>\n",
       "  </tbody>\n",
       "</table>\n",
       "</div>"
      ],
      "text/plain": [
       "                                  Feature_ID  Accuracy    Recall Precision  \\\n",
       "DT        Origin             [1, 7, 4, 3, 8]  0.999512   0.97486  0.988669   \n",
       "          SMOTE1             [4, 7, 1, 3, 9]   0.99955  0.988827  0.977901   \n",
       "          SMOTE2            [4, 7, 1, 3, 11]  0.999475   0.99162  0.969945   \n",
       "ANN       Origin  [4, 7, 3, 2, 5, 1, 10, 11]  0.999062  0.960894  0.969014   \n",
       "          SMOTE1          [4, 7, 2, 8, 5, 6]  0.998912  0.994413  0.929504   \n",
       "          SMOTE2                   [4, 6, 7]  0.995874  0.986034  0.770742   \n",
       "Adaboost  Origin       [4, 6, 1, 2, 7, 3, 8]   0.99955  0.986034  0.980556   \n",
       "          SMOTE1             [4, 7, 3, 2, 1]    0.9994  0.988827  0.967213   \n",
       "          SMOTE2         [4, 7, 3, 2, 5, 10]  0.999175  0.988827  0.951613   \n",
       "Xgboost   Origin            [4, 7, 1, 3, 11]  0.999625  0.988827  0.983333   \n",
       "          SMOTE1          [4, 7, 1, 2, 6, 9]   0.99955  0.988827  0.977901   \n",
       "          SMOTE2                [4, 7, 1, 3]  0.999437  0.988827  0.969863   \n",
       "Gboosting Origin                [1, 7, 4, 5]  0.999362  0.977654   0.97493   \n",
       "          SMOTE1            [4, 7, 2, 10, 8]   0.99955  0.988827  0.977901   \n",
       "          SMOTE2             [4, 7, 1, 2, 3]  0.999325  0.988827  0.961957   \n",
       "NB        Origin                   [4, 3, 2]  0.997712  0.980447  0.866667   \n",
       "          SMOTE1                      [4, 3]    0.9976  0.972067  0.865672   \n",
       "          SMOTE2                   [4, 3, 6]  0.997487  0.980447  0.854015   \n",
       "VFDT      Origin                   [4, 6, 5]  0.997787  0.902235  0.930836   \n",
       "          SMOTE1                   [4, 7, 5]  0.997337  0.938547  0.872727   \n",
       "          SMOTE2                   [4, 5, 6]  0.996924  0.946927  0.843284   \n",
       "\n",
       "                  F1_Score          FPR  \n",
       "DT        Origin  0.981716  0.000152068  \n",
       "          SMOTE1  0.983333  0.000304136  \n",
       "          SMOTE2  0.980663  0.000418187  \n",
       "ANN       Origin  0.964937  0.000418187  \n",
       "          SMOTE1  0.960864   0.00102646  \n",
       "          SMOTE2  0.865196   0.00399179  \n",
       "Adaboost  Origin  0.983287  0.000266119  \n",
       "          SMOTE1  0.977901  0.000456204  \n",
       "          SMOTE2  0.969863  0.000684307  \n",
       "Xgboost   Origin  0.986072  0.000228102  \n",
       "          SMOTE1  0.983333  0.000304136  \n",
       "          SMOTE2  0.979253  0.000418187  \n",
       "Gboosting Origin   0.97629  0.000342153  \n",
       "          SMOTE1  0.983333  0.000304136  \n",
       "          SMOTE2  0.975207  0.000532238  \n",
       "NB        Origin  0.920052   0.00205292  \n",
       "          SMOTE1  0.915789   0.00205292  \n",
       "          SMOTE2  0.912874   0.00228102  \n",
       "VFDT      Origin  0.916312  0.000912409  \n",
       "          SMOTE1  0.904441   0.00186283  \n",
       "          SMOTE2  0.892105   0.00239507  "
      ]
     },
     "execution_count": 19,
     "metadata": {},
     "output_type": "execute_result"
    }
   ],
   "source": [
    "greedy_me = np.load(save_path,allow_pickle = True)\n",
    "\n",
    "show = pd.DataFrame(index = pd.MultiIndex.from_product([clf_name,['Origin','SMOTE1','SMOTE2']]))\n",
    "show['Feature_ID'] = np.reshape(greedy_index,(-1,1))[:,0]\n",
    "show['Accuracy'] = greedy_me[:,2]\n",
    "show['Recall'] = greedy_me[:,3]\n",
    "show['Precision'] = greedy_me[:,4]\n",
    "show['F1_Score'] = greedy_me[:,5]\n",
    "show['FPR'] = greedy_me[:,6]\n",
    "show.to_csv(r'result/性能度量1.csv')\n",
    "show"
   ]
  },
  {
   "cell_type": "code",
   "execution_count": 20,
   "metadata": {
    "ExecuteTime": {
     "end_time": "2019-06-10T15:39:39.224576Z",
     "start_time": "2019-06-10T15:39:39.219586Z"
    }
   },
   "outputs": [],
   "source": [
    "del show,greedy_index,greedy_me"
   ]
  },
  {
   "cell_type": "markdown",
   "metadata": {},
   "source": [
    "# All-Metrics"
   ]
  },
  {
   "cell_type": "code",
   "execution_count": 47,
   "metadata": {
    "ExecuteTime": {
     "end_time": "2019-06-10T15:55:15.678522Z",
     "start_time": "2019-06-10T15:54:19.667257Z"
    }
   },
   "outputs": [
    {
     "name": "stderr",
     "output_type": "stream",
     "text": [
      "\r",
      "  0%|                                                                                                                    | 0/3 [00:00<?, ?it/s]"
     ]
    },
    {
     "name": "stdout",
     "output_type": "stream",
     "text": [
      "epochs:  1 / 3\n",
      "epochs:  2 / 3\n",
      "epochs:  3 / 3\n"
     ]
    },
    {
     "name": "stderr",
     "output_type": "stream",
     "text": [
      "\r",
      " 33%|████████████████████████████████████                                                                        | 1/3 [00:08<00:16,  8.36s/it]"
     ]
    },
    {
     "name": "stdout",
     "output_type": "stream",
     "text": [
      "epochs:  1 / 3\n",
      "70000 / 76720\n",
      "epochs:  2 / 3\n",
      "70000 / 76720\n",
      "epochs:  3 / 3\n",
      "70000 / 76720\n"
     ]
    },
    {
     "name": "stderr",
     "output_type": "stream",
     "text": [
      "\r",
      " 67%|████████████████████████████████████████████████████████████████████████                                    | 2/3 [00:20<00:09,  9.50s/it]"
     ]
    },
    {
     "name": "stdout",
     "output_type": "stream",
     "text": [
      "epochs:  1 / 3\n",
      "70000 / 122752\n",
      "epochs:  2 / 3\n",
      "70000 / 122752\n",
      "epochs:  3 / 3\n",
      "70000 / 122752\n"
     ]
    },
    {
     "name": "stderr",
     "output_type": "stream",
     "text": [
      "100%|████████████████████████████████████████████████████████████████████████████████████████████████████████████| 3/3 [00:55<00:00, 17.29s/it]\n"
     ]
    }
   ],
   "source": [
    "save_path = r'result/greedy/all_me.npy'\n",
    "if switch[4]:\n",
    "    all_me = []\n",
    "    for i,clf_i in enumerate(clf):\n",
    "        if clf_switch[i]:\n",
    "            for j in tqdm(range(len(xtrain))):\n",
    "                all_me.append(me.performance(clf_i,xtrain[j],ytrain[j],xtest[j],ytest[j]))\n",
    "        else :\n",
    "            for j in range(3):\n",
    "                all_me.append([None,None,None,None,None,None,None,None])\n",
    "    np.save(save_path,all_me)"
   ]
  },
  {
   "cell_type": "code",
   "execution_count": 23,
   "metadata": {
    "ExecuteTime": {
     "end_time": "2019-06-10T15:46:37.593962Z",
     "start_time": "2019-06-10T15:46:37.500203Z"
    }
   },
   "outputs": [
    {
     "data": {
      "text/html": [
       "<div>\n",
       "<style scoped>\n",
       "    .dataframe tbody tr th:only-of-type {\n",
       "        vertical-align: middle;\n",
       "    }\n",
       "\n",
       "    .dataframe tbody tr th {\n",
       "        vertical-align: top;\n",
       "    }\n",
       "\n",
       "    .dataframe thead th {\n",
       "        text-align: right;\n",
       "    }\n",
       "</style>\n",
       "<table border=\"1\" class=\"dataframe\">\n",
       "  <thead>\n",
       "    <tr style=\"text-align: right;\">\n",
       "      <th></th>\n",
       "      <th></th>\n",
       "      <th>Feature_ID</th>\n",
       "      <th>Accuracy</th>\n",
       "      <th>Recall</th>\n",
       "      <th>Precision</th>\n",
       "      <th>F1_Score</th>\n",
       "      <th>FPR</th>\n",
       "    </tr>\n",
       "  </thead>\n",
       "  <tbody>\n",
       "    <tr>\n",
       "      <th rowspan=\"3\" valign=\"top\">DT</th>\n",
       "      <th>Origin</th>\n",
       "      <td>all</td>\n",
       "      <td>0.999362</td>\n",
       "      <td>0.969274</td>\n",
       "      <td>0.983003</td>\n",
       "      <td>0.97609</td>\n",
       "      <td>0.000228102</td>\n",
       "    </tr>\n",
       "    <tr>\n",
       "      <th>SMOTE1</th>\n",
       "      <td>all</td>\n",
       "      <td>0.9994</td>\n",
       "      <td>0.977654</td>\n",
       "      <td>0.977654</td>\n",
       "      <td>0.977654</td>\n",
       "      <td>0.000304136</td>\n",
       "    </tr>\n",
       "    <tr>\n",
       "      <th>SMOTE2</th>\n",
       "      <td>all</td>\n",
       "      <td>0.9994</td>\n",
       "      <td>0.977654</td>\n",
       "      <td>0.977654</td>\n",
       "      <td>0.977654</td>\n",
       "      <td>0.000304136</td>\n",
       "    </tr>\n",
       "    <tr>\n",
       "      <th rowspan=\"3\" valign=\"top\">ANN</th>\n",
       "      <th>Origin</th>\n",
       "      <td>all</td>\n",
       "      <td>0.999175</td>\n",
       "      <td>0.960894</td>\n",
       "      <td>0.977273</td>\n",
       "      <td>0.969014</td>\n",
       "      <td>0.000304136</td>\n",
       "    </tr>\n",
       "    <tr>\n",
       "      <th>SMOTE1</th>\n",
       "      <td>all</td>\n",
       "      <td>0.999025</td>\n",
       "      <td>0.988827</td>\n",
       "      <td>0.941489</td>\n",
       "      <td>0.964578</td>\n",
       "      <td>0.000836375</td>\n",
       "    </tr>\n",
       "    <tr>\n",
       "      <th>SMOTE2</th>\n",
       "      <td>all</td>\n",
       "      <td>0.998687</td>\n",
       "      <td>0.98324</td>\n",
       "      <td>0.923885</td>\n",
       "      <td>0.952639</td>\n",
       "      <td>0.00110249</td>\n",
       "    </tr>\n",
       "    <tr>\n",
       "      <th rowspan=\"3\" valign=\"top\">Adaboost</th>\n",
       "      <th>Origin</th>\n",
       "      <td>all</td>\n",
       "      <td>0.999475</td>\n",
       "      <td>0.980447</td>\n",
       "      <td>0.980447</td>\n",
       "      <td>0.980447</td>\n",
       "      <td>0.000266119</td>\n",
       "    </tr>\n",
       "    <tr>\n",
       "      <th>SMOTE1</th>\n",
       "      <td>all</td>\n",
       "      <td>0.99925</td>\n",
       "      <td>0.986034</td>\n",
       "      <td>0.959239</td>\n",
       "      <td>0.972452</td>\n",
       "      <td>0.000570255</td>\n",
       "    </tr>\n",
       "    <tr>\n",
       "      <th>SMOTE2</th>\n",
       "      <td>all</td>\n",
       "      <td>0.9991</td>\n",
       "      <td>0.988827</td>\n",
       "      <td>0.946524</td>\n",
       "      <td>0.967213</td>\n",
       "      <td>0.000760341</td>\n",
       "    </tr>\n",
       "    <tr>\n",
       "      <th rowspan=\"3\" valign=\"top\">Xgboost</th>\n",
       "      <th>Origin</th>\n",
       "      <td>all</td>\n",
       "      <td>0.999512</td>\n",
       "      <td>0.977654</td>\n",
       "      <td>0.985915</td>\n",
       "      <td>0.981767</td>\n",
       "      <td>0.000190085</td>\n",
       "    </tr>\n",
       "    <tr>\n",
       "      <th>SMOTE1</th>\n",
       "      <td>all</td>\n",
       "      <td>0.999512</td>\n",
       "      <td>0.988827</td>\n",
       "      <td>0.975207</td>\n",
       "      <td>0.981969</td>\n",
       "      <td>0.000342153</td>\n",
       "    </tr>\n",
       "    <tr>\n",
       "      <th>SMOTE2</th>\n",
       "      <td>all</td>\n",
       "      <td>0.999475</td>\n",
       "      <td>0.988827</td>\n",
       "      <td>0.972527</td>\n",
       "      <td>0.980609</td>\n",
       "      <td>0.00038017</td>\n",
       "    </tr>\n",
       "    <tr>\n",
       "      <th rowspan=\"3\" valign=\"top\">Gboosting</th>\n",
       "      <th>Origin</th>\n",
       "      <td>all</td>\n",
       "      <td>0.999475</td>\n",
       "      <td>0.977654</td>\n",
       "      <td>0.983146</td>\n",
       "      <td>0.980392</td>\n",
       "      <td>0.000228102</td>\n",
       "    </tr>\n",
       "    <tr>\n",
       "      <th>SMOTE1</th>\n",
       "      <td>all</td>\n",
       "      <td>0.999512</td>\n",
       "      <td>0.986034</td>\n",
       "      <td>0.977839</td>\n",
       "      <td>0.981919</td>\n",
       "      <td>0.000304136</td>\n",
       "    </tr>\n",
       "    <tr>\n",
       "      <th>SMOTE2</th>\n",
       "      <td>all</td>\n",
       "      <td>0.999362</td>\n",
       "      <td>0.986034</td>\n",
       "      <td>0.967123</td>\n",
       "      <td>0.976487</td>\n",
       "      <td>0.000456204</td>\n",
       "    </tr>\n",
       "    <tr>\n",
       "      <th rowspan=\"3\" valign=\"top\">NB</th>\n",
       "      <th>Origin</th>\n",
       "      <td>all</td>\n",
       "      <td>0.994974</td>\n",
       "      <td>0.994413</td>\n",
       "      <td>0.729508</td>\n",
       "      <td>0.841608</td>\n",
       "      <td>0.00501825</td>\n",
       "    </tr>\n",
       "    <tr>\n",
       "      <th>SMOTE1</th>\n",
       "      <td>all</td>\n",
       "      <td>0.994712</td>\n",
       "      <td>0.994413</td>\n",
       "      <td>0.719192</td>\n",
       "      <td>0.834701</td>\n",
       "      <td>0.00528437</td>\n",
       "    </tr>\n",
       "    <tr>\n",
       "      <th>SMOTE2</th>\n",
       "      <td>all</td>\n",
       "      <td>0.994036</td>\n",
       "      <td>0.997207</td>\n",
       "      <td>0.693204</td>\n",
       "      <td>0.817869</td>\n",
       "      <td>0.00600669</td>\n",
       "    </tr>\n",
       "    <tr>\n",
       "      <th rowspan=\"3\" valign=\"top\">VFDT</th>\n",
       "      <th>Origin</th>\n",
       "      <td>all</td>\n",
       "      <td>0.9976</td>\n",
       "      <td>0.97486</td>\n",
       "      <td>0.863861</td>\n",
       "      <td>0.91601</td>\n",
       "      <td>0.00209094</td>\n",
       "    </tr>\n",
       "    <tr>\n",
       "      <th>SMOTE1</th>\n",
       "      <td>all</td>\n",
       "      <td>0.986348</td>\n",
       "      <td>0</td>\n",
       "      <td>0</td>\n",
       "      <td>0</td>\n",
       "      <td>0.000228102</td>\n",
       "    </tr>\n",
       "    <tr>\n",
       "      <th>SMOTE2</th>\n",
       "      <td>all</td>\n",
       "      <td>0.98631</td>\n",
       "      <td>0</td>\n",
       "      <td>0</td>\n",
       "      <td>0</td>\n",
       "      <td>0.000266119</td>\n",
       "    </tr>\n",
       "  </tbody>\n",
       "</table>\n",
       "</div>"
      ],
      "text/plain": [
       "                 Feature_ID  Accuracy    Recall Precision  F1_Score  \\\n",
       "DT        Origin        all  0.999362  0.969274  0.983003   0.97609   \n",
       "          SMOTE1        all    0.9994  0.977654  0.977654  0.977654   \n",
       "          SMOTE2        all    0.9994  0.977654  0.977654  0.977654   \n",
       "ANN       Origin        all  0.999175  0.960894  0.977273  0.969014   \n",
       "          SMOTE1        all  0.999025  0.988827  0.941489  0.964578   \n",
       "          SMOTE2        all  0.998687   0.98324  0.923885  0.952639   \n",
       "Adaboost  Origin        all  0.999475  0.980447  0.980447  0.980447   \n",
       "          SMOTE1        all   0.99925  0.986034  0.959239  0.972452   \n",
       "          SMOTE2        all    0.9991  0.988827  0.946524  0.967213   \n",
       "Xgboost   Origin        all  0.999512  0.977654  0.985915  0.981767   \n",
       "          SMOTE1        all  0.999512  0.988827  0.975207  0.981969   \n",
       "          SMOTE2        all  0.999475  0.988827  0.972527  0.980609   \n",
       "Gboosting Origin        all  0.999475  0.977654  0.983146  0.980392   \n",
       "          SMOTE1        all  0.999512  0.986034  0.977839  0.981919   \n",
       "          SMOTE2        all  0.999362  0.986034  0.967123  0.976487   \n",
       "NB        Origin        all  0.994974  0.994413  0.729508  0.841608   \n",
       "          SMOTE1        all  0.994712  0.994413  0.719192  0.834701   \n",
       "          SMOTE2        all  0.994036  0.997207  0.693204  0.817869   \n",
       "VFDT      Origin        all    0.9976   0.97486  0.863861   0.91601   \n",
       "          SMOTE1        all  0.986348         0         0         0   \n",
       "          SMOTE2        all   0.98631         0         0         0   \n",
       "\n",
       "                          FPR  \n",
       "DT        Origin  0.000228102  \n",
       "          SMOTE1  0.000304136  \n",
       "          SMOTE2  0.000304136  \n",
       "ANN       Origin  0.000304136  \n",
       "          SMOTE1  0.000836375  \n",
       "          SMOTE2   0.00110249  \n",
       "Adaboost  Origin  0.000266119  \n",
       "          SMOTE1  0.000570255  \n",
       "          SMOTE2  0.000760341  \n",
       "Xgboost   Origin  0.000190085  \n",
       "          SMOTE1  0.000342153  \n",
       "          SMOTE2   0.00038017  \n",
       "Gboosting Origin  0.000228102  \n",
       "          SMOTE1  0.000304136  \n",
       "          SMOTE2  0.000456204  \n",
       "NB        Origin   0.00501825  \n",
       "          SMOTE1   0.00528437  \n",
       "          SMOTE2   0.00600669  \n",
       "VFDT      Origin   0.00209094  \n",
       "          SMOTE1  0.000228102  \n",
       "          SMOTE2  0.000266119  "
      ]
     },
     "execution_count": 23,
     "metadata": {},
     "output_type": "execute_result"
    }
   ],
   "source": [
    "all_me = np.load(save_path,allow_pickle = True)\n",
    "\n",
    "show = pd.DataFrame(index = pd.MultiIndex.from_product([clf_name,['Origin','SMOTE1','SMOTE2']]))\n",
    "show['Feature_ID'] = np.repeat(['all'],21)\n",
    "show['Accuracy'] = all_me[:,2]\n",
    "show['Recall'] = all_me[:,3]\n",
    "show['Precision'] = all_me[:,4]\n",
    "show['F1_Score'] = all_me[:,5]\n",
    "show['FPR'] = all_me[:,6]\n",
    "show.to_csv(r'result/性能度量2.csv')\n",
    "show"
   ]
  }
 ],
 "metadata": {
  "kernelspec": {
   "display_name": "Python 3",
   "language": "python",
   "name": "python3"
  },
  "language_info": {
   "codemirror_mode": {
    "name": "ipython",
    "version": 3
   },
   "file_extension": ".py",
   "mimetype": "text/x-python",
   "name": "python",
   "nbconvert_exporter": "python",
   "pygments_lexer": "ipython3",
   "version": "3.6.4"
  },
  "toc": {
   "base_numbering": 1,
   "nav_menu": {},
   "number_sections": true,
   "sideBar": true,
   "skip_h1_title": false,
   "title_cell": "Table of Contents",
   "title_sidebar": "Contents",
   "toc_cell": false,
   "toc_position": {},
   "toc_section_display": true,
   "toc_window_display": true
  },
  "varInspector": {
   "cols": {
    "lenName": 16,
    "lenType": 16,
    "lenVar": 40
   },
   "kernels_config": {
    "python": {
     "delete_cmd_postfix": "",
     "delete_cmd_prefix": "del ",
     "library": "var_list.py",
     "varRefreshCmd": "print(var_dic_list())"
    },
    "r": {
     "delete_cmd_postfix": ") ",
     "delete_cmd_prefix": "rm(",
     "library": "var_list.r",
     "varRefreshCmd": "cat(var_dic_list()) "
    }
   },
   "oldHeight": 551.1999999999999,
   "position": {
    "height": "573px",
    "left": "761.59px",
    "right": "20px",
    "top": "109px",
    "width": "312px"
   },
   "types_to_exclude": [
    "module",
    "function",
    "builtin_function_or_method",
    "instance",
    "_Feature"
   ],
   "varInspector_section_display": "block",
   "window_display": false
  }
 },
 "nbformat": 4,
 "nbformat_minor": 2
}
